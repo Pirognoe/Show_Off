{
  "nbformat": 4,
  "nbformat_minor": 0,
  "metadata": {
    "colab": {
      "name": "DEX_pmsys_task.ipynb",
      "provenance": [],
      "collapsed_sections": [],
      "authorship_tag": "ABX9TyMRK7VK6UNdI1RWXs+xqRBf",
      "include_colab_link": true
    },
    "kernelspec": {
      "name": "python3",
      "display_name": "Python 3"
    }
  },
  "cells": [
    {
      "cell_type": "markdown",
      "metadata": {
        "id": "view-in-github",
        "colab_type": "text"
      },
      "source": [
        "<a href=\"https://colab.research.google.com/github/Pirognoe/Show_Off/blob/master/DEX_pmsys_task.ipynb\" target=\"_parent\"><img src=\"https://colab.research.google.com/assets/colab-badge.svg\" alt=\"Open In Colab\"/></a>"
      ]
    },
    {
      "cell_type": "markdown",
      "metadata": {
        "id": "Gvyjg5kCJ0j3",
        "colab_type": "text"
      },
      "source": [
        "#Import section"
      ]
    },
    {
      "cell_type": "code",
      "metadata": {
        "id": "KLTIbF5BBqIH",
        "colab_type": "code",
        "colab": {}
      },
      "source": [
        "from urllib.request import urlretrieve\n",
        "import os\n",
        "from pathlib import Path\n",
        "import pandas\n",
        "from zipfile import ZipFile"
      ],
      "execution_count": 0,
      "outputs": []
    },
    {
      "cell_type": "markdown",
      "metadata": {
        "id": "0RWMXMtF2hwu",
        "colab_type": "text"
      },
      "source": [
        "# Initial data upload"
      ]
    },
    {
      "cell_type": "code",
      "metadata": {
        "id": "lUh9LO6uztD5",
        "colab_type": "code",
        "colab": {
          "base_uri": "https://localhost:8080/",
          "height": 72
        },
        "outputId": "000613f1-1ab2-4994-d582-580d7450135d"
      },
      "source": [
        "def download(url, file):\n",
        "    if not os.path.isfile(file):\n",
        "        print(\"Download file... \" + file + \" ...\")\n",
        "        urlretrieve(url,file)\n",
        "        print(\"File downloaded\")\n",
        "\n",
        "download('https://datasets.simula.no/pmdata/pmdata.zip','pmdata.zip')\n",
        "print(\"All the files are downloaded\")#If the downloaded file is a zip file than you can use below function to unzip it.\n",
        "def uncompress_features_labels(dir):\n",
        "    if(os.path.isdir('data')):\n",
        "        print('Data extracted')\n",
        "    else:\n",
        "        with ZipFile(dir) as zipf:\n",
        "            zipf.extractall('data')\n",
        "uncompress_features_labels('pmdata.zip')"
      ],
      "execution_count": 2,
      "outputs": [
        {
          "output_type": "stream",
          "text": [
            "Download file... pmdata.zip ...\n",
            "File downloaded\n",
            "All the files are downloaded\n"
          ],
          "name": "stdout"
        }
      ]
    },
    {
      "cell_type": "markdown",
      "metadata": {
        "id": "em42xqtWCAwv",
        "colab_type": "text"
      },
      "source": [
        ""
      ]
    },
    {
      "cell_type": "code",
      "metadata": {
        "id": "qow4mHlMB8yr",
        "colab_type": "code",
        "colab": {
          "base_uri": "https://localhost:8080/",
          "height": 35
        },
        "outputId": "1696d8ac-e5d8-4559-84fe-8bf741d1b508"
      },
      "source": [
        "main_directory = Path('./data')\n",
        "main_directory.iterdir()"
      ],
      "execution_count": 49,
      "outputs": [
        {
          "output_type": "execute_result",
          "data": {
            "text/plain": [
              "<generator object Path.iterdir at 0x7fb8aab63360>"
            ]
          },
          "metadata": {
            "tags": []
          },
          "execution_count": 49
        }
      ]
    },
    {
      "cell_type": "code",
      "metadata": {
        "id": "QgUtyX0j3TqU",
        "colab_type": "code",
        "outputId": "731160cf-2ed2-4816-b6b0-ec25414ea29b",
        "colab": {
          "base_uri": "https://localhost:8080/",
          "height": 944
        }
      },
      "source": [
        "for directory in main_directory.iterdir():\n",
        "  if directory.is_dir():\n",
        "    for data_source in directory.iterdir():\n",
        "      print (data_source)"
      ],
      "execution_count": 56,
      "outputs": [
        {
          "output_type": "stream",
          "text": [
            "data/p03/fitbit\n",
            "data/p03/googledocs\n",
            "data/p03/pmsys\n",
            "data/p03/food-images\n",
            "data/p12/fitbit\n",
            "data/p12/googledocs\n",
            "data/p12/pmsys\n",
            "data/p01/fitbit\n",
            "data/p01/googledocs\n",
            "data/p01/pmsys\n",
            "data/p01/food-images\n",
            "data/p16/fitbit\n",
            "data/p16/googledocs\n",
            "data/p16/pmsys\n",
            "data/p15/fitbit\n",
            "data/p15/googledocs\n",
            "data/p15/pmsys\n",
            "data/p05/fitbit\n",
            "data/p05/googledocs\n",
            "data/p05/pmsys\n",
            "data/p05/food-images\n",
            "data/p11/fitbit\n",
            "data/p11/googledocs\n",
            "data/p11/pmsys\n",
            "data/p04/fitbit\n",
            "data/p04/googledocs\n",
            "data/p04/pmsys\n",
            "data/p09/fitbit\n",
            "data/p09/googledocs\n",
            "data/p09/pmsys\n",
            "data/p06/fitbit\n",
            "data/p06/googledocs\n",
            "data/p06/pmsys\n",
            "data/p02/fitbit\n",
            "data/p02/googledocs\n",
            "data/p02/pmsys\n",
            "data/p13/fitbit\n",
            "data/p13/googledocs\n",
            "data/p13/pmsys\n",
            "data/p14/fitbit\n",
            "data/p14/googledocs\n",
            "data/p14/pmsys\n",
            "data/p07/fitbit\n",
            "data/p07/googledocs\n",
            "data/p07/pmsys\n",
            "data/p10/fitbit\n",
            "data/p10/googledocs\n",
            "data/p10/pmsys\n",
            "data/p08/fitbit\n",
            "data/p08/googledocs\n",
            "data/p08/pmsys\n"
          ],
          "name": "stdout"
        }
      ]
    },
    {
      "cell_type": "code",
      "metadata": {
        "id": "uIrMR8WtLX-x",
        "colab_type": "code",
        "colab": {
          "base_uri": "https://localhost:8080/",
          "height": 1000
        },
        "outputId": "3294034e-4348-44ab-cf5d-20fe9798ac2e"
      },
      "source": [
        "for item in os.walk(os.getcwd()):\n",
        "  print(item)"
      ],
      "execution_count": 35,
      "outputs": [
        {
          "output_type": "stream",
          "text": [
            "('/content', ['.config', 'data', 'sample_data'], ['pmdata.zip'])\n",
            "('/content/.config', ['logs', 'configurations'], ['.last_opt_in_prompt.yaml', 'config_sentinel', '.last_survey_prompt.yaml', 'active_config', '.last_update_check.json', 'gce', '.metricsUUID'])\n",
            "('/content/.config/logs', ['2020.04.03'], [])\n",
            "('/content/.config/logs/2020.04.03', [], ['16.23.57.403439.log', '16.24.26.990500.log', '16.24.26.483358.log', '16.24.09.722063.log', '16.23.40.043713.log', '16.24.13.655529.log'])\n",
            "('/content/.config/configurations', [], ['config_default'])\n",
            "('/content/data', ['p03', 'p12', 'p01', 'p16', 'p15', 'p05', 'p11', 'p04', 'p09', 'p06', 'p02', 'p13', 'p14', 'p07', 'p10', 'p08'], ['participant-overview.xlsx'])\n",
            "('/content/data/p03', ['fitbit', 'googledocs', 'pmsys', 'food-images'], [])\n",
            "('/content/data/p03/fitbit', [], ['very_active_minutes.json', 'sleep_score.csv', 'calories.json', 'steps.json', 'distance.json', 'sedentary_minutes.json', 'time_in_heart_rate_zones.json', 'moderately_active_minutes.json', 'heart_rate.json', 'exercise.json', 'sleep.json', 'lightly_active_minutes.json', 'resting_heart_rate.json'])\n",
            "('/content/data/p03/googledocs', [], ['reporting.csv'])\n",
            "('/content/data/p03/pmsys', [], ['srpe.csv', 'wellness.csv', 'injury.csv'])\n",
            "('/content/data/p03/food-images', [], ['IMG_2617.jpg', 'IMG_2621.jpg', 'IMG_2619.jpg', 'IMG_2719.jpg', 'IMG_2694.jpg', 'IMG_2598.jpg', 'IMG_2693.jpg', 'IMG_2603.jpg', 'IMG_2653.jpg', 'IMG_2623.jpg', 'IMG_2632.jpg', 'IMG_2655.jpg', 'IMG_2713.jpg', 'IMG_2605.jpg', 'IMG_2708.jpg', 'IMG_2654.jpg', 'IMG_2745.jpg', 'IMG_2667.jpg', 'IMG_2716.jpg', 'IMG_2725.jpg', 'IMG_2644.jpg', 'IMG_2706.jpg', 'IMG_2647.jpg', 'IMG_2652.jpg', 'IMG_2606.jpg', 'IMG_2636.jpg', 'IMG_2695.jpg', 'IMG_2677.jpg', 'IMG_2679.jpg', 'IMG_2614.jpg', 'IMG_2683.jpg', 'IMG_2673.jpg', 'IMG_2612.jpg', 'IMG_2664.jpg', 'IMG_2604.jpg', 'IMG_2729.jpg', 'IMG_2718.jpg', 'IMG_2600.jpg', 'IMG_2645.jpg', 'IMG_2690.jpg', 'IMG_2648.jpg', 'IMG_2715.jpg', 'IMG_2747.jpg', 'IMG_2637.jpg', 'IMG_2720.jpg', 'IMG_2610.jpg', 'IMG_2663.jpg', 'IMG_2661.jpg', 'IMG_2674.jpg', 'IMG_2707.jpg', 'IMG_2670.jpg', 'IMG_2726.jpg', 'IMG_2634.jpg', 'IMG_2638.jpg', 'IMG_2689.jpg', 'IMG_2625.jpg', 'IMG_2709.jpg', 'IMG_2691.jpg', 'IMG_2731.jpg', 'IMG_2646.jpg', 'IMG_2659.jpg', 'IMG_2591.jpg', 'IMG_2589.jpg', 'IMG_2615.jpg', 'IMG_2748.jpg', 'IMG_2724.jpg', 'IMG_2620.jpg', 'IMG_2608.jpg', 'IMG_2657.jpg', 'IMG_2640.jpg', 'IMG_2656.jpg', 'IMG_2732.jpg', 'IMG_2749.jpg', 'IMG_2678.jpg', 'IMG_2740.jpg', 'IMG_2722.jpg', 'IMG_2721.jpg', 'IMG_2630.jpg', 'IMG_2739.jpg', 'IMG_2601.jpg', 'IMG_2602.jpg', 'IMG_2613.jpg', 'IMG_2746.jpg', 'IMG_2692.jpg', 'IMG_2685.jpg', 'IMG_2671.jpg', 'IMG_2611.jpg', 'IMG_2628.jpg', 'IMG_2730.jpg', 'IMG_2734.jpg', 'IMG_2669.jpg', 'IMG_2686.jpg', 'IMG_2593.jpg', 'IMG_2687.jpg', 'IMG_2597.jpg', 'IMG_2627.jpg', 'IMG_2624.jpg', 'IMG_2735.jpg', 'IMG_2675.jpg', 'IMG_2714.jpg', 'IMG_2651.jpg', 'IMG_2738.jpg', 'IMG_2750.jpg', 'IMG_2590.jpg', 'IMG_2629.jpg', 'IMG_2643.jpg', 'IMG_2668.jpg', 'IMG_2696.jpg', 'IMG_2594.jpg', 'IMG_2741.jpg', 'IMG_2688.jpg', 'IMG_2595.jpg', 'IMG_2588.jpg', 'IMG_2744.jpg', 'IMG_2639.jpg', 'IMG_2665.jpg', 'IMG_2618.jpg', 'IMG_2743.jpg', 'IMG_2684.jpg', 'IMG_2599.jpg', 'IMG_2676.jpg', 'IMG_2660.jpg', 'IMG_2717.jpg', 'IMG_2633.jpg', 'IMG_2649.jpg', 'IMG_2705.jpg', 'IMG_2682.jpg', 'IMG_2635.jpg', 'IMG_2609.jpg', 'IMG_2737.jpg', 'IMG_2733.jpg', 'IMG_2728.jpg', 'IMG_2592.jpg', 'IMG_2607.jpg', 'IMG_2631.jpg', 'IMG_2622.jpg'])\n",
            "('/content/data/p12', ['fitbit', 'googledocs', 'pmsys'], [])\n",
            "('/content/data/p12/fitbit', [], ['very_active_minutes.json', 'sleep_score.csv', 'calories.json', 'steps.json', 'distance.json', 'sedentary_minutes.json', 'time_in_heart_rate_zones.json', 'moderately_active_minutes.json', 'heart_rate.json', 'exercise.json', 'sleep.json'])\n",
            "('/content/data/p12/googledocs', [], ['reporting.csv'])\n",
            "('/content/data/p12/pmsys', [], ['srpe.csv', 'wellness.csv', 'injury.csv'])\n",
            "('/content/data/p01', ['fitbit', 'googledocs', 'pmsys', 'food-images'], [])\n",
            "('/content/data/p01/fitbit', [], ['very_active_minutes.json', 'sleep_score.csv', 'calories.json', 'steps.json', 'distance.json', 'sedentary_minutes.json', 'time_in_heart_rate_zones.json', 'moderately_active_minutes.json', 'heart_rate.json', 'exercise.json', 'sleep.json', 'lightly_active_minutes.json', 'resting_heart_rate.json'])\n",
            "('/content/data/p01/googledocs', [], ['reporting.csv'])\n",
            "('/content/data/p01/pmsys', [], ['srpe.csv', 'wellness.csv', 'injury.csv'])\n",
            "('/content/data/p01/food-images', [], ['IMG_9326.jpeg', 'IMG_9006.jpeg', 'IMG_9099.jpeg', 'IMG_9305.jpeg', 'IMG_9074.jpeg', 'IMG_9061.jpeg', 'IMG_9379.jpeg', 'IMG_9283.jpeg', 'IMG_9261.jpeg', 'IMG_9262.jpeg', 'IMG_9294.jpeg', 'IMG_9029.jpeg', 'IMG_9292.jpeg', 'IMG_9311.jpeg', 'IMG_9275.jpeg', 'IMG_9011.jpeg', 'IMG_9041.jpeg', 'IMG_9157.jpeg', 'IMG_9355.jpeg', 'IMG_9034.jpeg', 'IMG_9412.jpeg', 'IMG_9299.jpeg', 'IMG_9093.jpeg', 'IMG_9382.jpeg', 'IMG_9024.jpeg', 'IMG_9043.jpeg', 'IMG_8996.jpeg', 'IMG_9020.jpeg', 'IMG_9154.jpeg', 'IMG_9232.jpeg', 'IMG_8973.jpeg', 'IMG_9290.jpeg', 'IMG_9178.jpeg', 'IMG_9401.jpeg', 'IMG_8963.jpeg', 'IMG_9257.jpeg', 'IMG_9002.jpeg', 'IMG_9098.jpeg', 'IMG_8980.jpeg', 'IMG_9234.jpeg', 'IMG_9251.jpeg', 'IMG_9047.jpeg', 'IMG_9295.jpeg', 'IMG_9260.jpeg', 'IMG_9268.jpeg', 'IMG_9282.jpeg', 'IMG_9281.jpeg', 'IMG_9373.jpeg', 'IMG_9318.jpeg', 'IMG_9323.jpeg', 'IMG_9101.jpeg', 'IMG_9211.jpeg', 'IMG_9309.jpeg', 'IMG_8969.jpeg', 'IMG_8985.jpeg', 'IMG_9052.jpeg', 'IMG_9287.jpeg', 'IMG_9042.jpeg', 'IMG_9223.jpeg', 'IMG_9204.jpeg', 'IMG_9266.jpeg', 'IMG_9307.jpeg', 'IMG_9089.jpeg', 'IMG_8922.jpeg', 'IMG_9273.jpeg', 'IMG_9364.jpeg', 'IMG_8999.jpeg', 'IMG_9207.jpeg', 'IMG_9241.jpeg', 'IMG_9387.jpeg', 'IMG_9164.jpeg', 'IMG_9112.jpeg', 'IMG_9225.jpeg', 'IMG_9331.jpeg', 'IMG_8965.jpeg', 'IMG_9044.jpeg', 'IMG_9395.jpeg', 'IMG_9293.jpeg', 'IMG_9003.jpeg', 'IMG_9094.jpeg', 'IMG_9388.jpeg', 'IMG_9371.jpeg', 'IMG_9265.jpeg', 'IMG_9374.jpeg', 'IMG_9119.jpeg', 'IMG_9242.jpeg', 'IMG_9084.jpeg', 'IMG_9106.jpeg', 'IMG_9009.jpeg', 'IMG_9302.jpeg', 'IMG_9254.jpeg', 'IMG_9310.jpeg', 'IMG_9033.jpeg', 'IMG_8923.jpeg', 'IMG_8983.jpeg', 'IMG_9264.jpeg', 'IMG_9160.jpeg', 'IMG_9069.jpeg', 'IMG_8920.jpeg', 'IMG_9156.jpeg', 'IMG_9342.jpeg', 'IMG_9188.jpeg', 'IMG_9186.jpeg', 'IMG_9270.jpeg', 'IMG_9065.jpeg', 'IMG_9117.jpeg', 'IMG_8927.jpeg', 'IMG_9389.jpeg', 'IMG_9206.jpeg', 'IMG_9013.jpeg', 'IMG_9398.jpeg', 'IMG_9325.jpeg', 'IMG_9406.jpeg', 'IMG_9068.jpeg', 'IMG_9038.jpeg', 'IMG_9360.jpeg', 'IMG_9337.jpeg', 'IMG_9091.jpeg', 'IMG_8972.jpeg', 'IMG_9209.jpeg', 'IMG_9291.jpeg', 'IMG_9344.jpeg', 'IMG_9118.jpeg', 'IMG_9085.jpeg', 'IMG_9259.jpeg', 'IMG_9380.jpeg', 'IMG_9350.jpeg', 'IMG_9015.jpeg', 'IMG_9462.jpeg', 'IMG_8998.jpeg', 'IMG_8916.jpeg', 'IMG_9214.jpeg', 'IMG_9053.jpeg', 'IMG_9060.jpeg', 'IMG_9408.jpeg', 'IMG_8962.jpeg', 'IMG_9155.jpeg', 'IMG_9399.jpeg', 'IMG_9286.jpeg', 'IMG_9314.jpeg', 'IMG_8968.jpeg', 'IMG_9067.jpeg', 'IMG_9168.jpeg', 'IMG_9372.jpeg', 'IMG_9122.jpeg', 'IMG_9054.jpeg', 'IMG_9333.jpeg', 'IMG_9409.jpeg', 'IMG_9110.jpeg', 'IMG_9332.jpeg', 'IMG_9308.jpeg', 'IMG_9397.jpeg', 'IMG_9036.jpeg', 'IMG_9383.jpeg', 'IMG_9361.jpeg', 'IMG_8982.jpeg', 'IMG_8960.jpeg', 'IMG_9274.jpeg', 'IMG_9238.jpeg', 'IMG_8975.jpeg', 'IMG_9343.jpeg', 'IMG_9030.jpeg', 'IMG_9010.jpeg', 'IMG_9111.png', 'IMG_9187.jpeg', 'IMG_9025.jpeg', 'IMG_8984.jpeg', 'IMG_9229.jpeg', 'IMG_9035.jpeg', 'IMG_9407.jpeg', 'IMG_9210.jpeg', 'IMG_9008.jpeg', 'IMG_9051.jpeg', 'IMG_8981.jpeg', 'IMG_9285.jpeg', 'IMG_8957.jpeg', 'IMG_9345.jpeg', 'IMG_9180.jpeg', 'IMG_9298.jpeg', 'IMG_9109.jpeg', 'IMG_9346.jpeg', 'IMG_9104.jpeg', 'IMG_9228.jpeg', 'IMG_8918.jpeg', 'IMG_9356.jpeg', 'IMG_9163.jpeg', 'IMG_9329.jpeg', 'IMG_9368.jpeg', 'IMG_9039.jpeg', 'IMG_9226.jpeg', 'IMG_8966.jpeg', 'IMG_9064.jpeg', 'IMG_9022.jpeg', 'IMG_9108.jpeg', 'IMG_9199.jpeg', 'IMG_8986.jpeg', 'IMG_9216.jpeg', 'IMG_9028.jpeg', 'IMG_9012.jpeg', 'IMG_9062.jpeg', 'IMG_9367.jpeg', 'IMG_9313.jpeg', 'IMG_9336.jpeg', 'IMG_9121.jpeg', 'IMG_9158.jpeg', 'IMG_9321.jpeg', 'IMG_9296.jpeg', 'IMG_9236.jpeg', 'IMG_9037.jpeg', 'IMG_9263.jpeg', 'IMG_9330.jpeg', 'IMG_9096.jpeg', 'IMG_9390.jpeg', 'IMG_9049.jpeg', 'IMG_9075.jpeg', 'IMG_9252.jpeg', 'IMG_9400.jpeg', 'IMG_9363.jpeg', 'IMG_9381.jpeg', 'IMG_9046.jpeg', 'IMG_9340.jpeg', 'IMG_8917.jpeg', 'IMG_8970.jpeg', 'IMG_9215.jpeg', 'IMG_9327.jpeg', 'IMG_9107.jpeg', 'IMG_9396.jpeg', 'IMG_9088.jpeg', 'IMG_9394.jpeg', 'IMG_9415.jpeg', 'IMG_9092.jpeg', 'IMG_9159.jpeg', 'IMG_9351.jpeg', 'IMG_9171.jpeg', 'IMG_9032.jpeg', 'IMG_8961.jpeg', 'IMG_9200.jpeg', 'IMG_9050.jpeg', 'IMG_9040.jpeg', 'IMG_8959.jpeg', 'IMG_9315.jpeg', 'IMG_9297.jpeg', 'IMG_9300.jpeg', 'IMG_9078.jpeg', 'IMG_9217.jpeg', 'IMG_9220.jpeg', 'IMG_9375.jpeg', 'IMG_8958.jpeg', 'IMG_9280.jpeg', 'IMG_9255.jpeg', 'IMG_9316.jpeg', 'IMG_9208.jpeg', 'IMG_9405.jpeg', 'IMG_9161.jpeg', 'IMG_9205.jpeg', 'IMG_9102.jpeg', 'IMG_9414.jpeg', 'IMG_9347.jpeg', 'IMG_9001.jpeg', 'IMG_9165.jpeg', 'IMG_9072.jpeg', 'IMG_9233.jpeg', 'IMG_9240.jpeg', 'IMG_9058.jpeg', 'IMG_9317.jpeg', 'IMG_9385.jpeg', 'IMG_9073.jpeg', 'IMG_9116.jpeg', 'IMG_9354.jpeg', 'IMG_8929.jpeg', 'IMG_9339.jpeg', 'IMG_9063.jpeg', 'IMG_9324.jpeg', 'IMG_9410.jpeg', 'IMG_9244.jpeg', 'IMG_9023.jpeg', 'IMG_9212.jpeg', 'IMG_9201.jpeg', 'IMG_9048.jpeg', 'IMG_8921.jpeg', 'IMG_9303.jpeg', 'IMG_9404.jpeg', 'IMG_9278.jpeg', 'IMG_9021.jpeg', 'IMG_9066.jpeg', 'IMG_9386.jpeg', 'IMG_9082.jpeg', 'IMG_9411.jpeg', 'IMG_9057.jpeg', 'IMG_9243.jpeg', 'IMG_8967.jpeg', 'IMG_9083.jpeg', 'IMG_9224.jpeg', 'IMG_9253.jpeg', 'IMG_9304.jpeg', 'IMG_9014.jpeg', 'IMG_8964.jpeg', 'IMG_9301.jpeg', 'IMG_9322.jpeg', 'IMG_9258.jpeg', 'IMG_9376.jpeg', 'IMG_9026.jpeg', 'IMG_9007.jpeg', 'IMG_9366.jpeg', 'IMG_9231.jpeg', 'IMG_9120.jpeg', 'IMG_9005.jpeg', 'IMG_9269.jpeg', 'IMG_9328.jpeg', 'IMG_8928.jpeg', 'IMG_9358.jpeg', 'IMG_9203.jpeg', 'IMG_9271.jpeg', 'IMG_9362.jpeg', 'IMG_9288.jpeg', 'IMG_9059.jpeg', 'IMG_9413.jpeg', 'IMG_9403.jpeg', 'IMG_9202.jpeg', 'IMG_8977.jpeg', 'IMG_9230.jpeg'])\n",
            "('/content/data/p16', ['fitbit', 'googledocs', 'pmsys'], [])\n",
            "('/content/data/p16/fitbit', [], ['very_active_minutes.json', 'sleep_score.csv', 'calories.json', 'steps.json', 'distance.json', 'sedentary_minutes.json', 'time_in_heart_rate_zones.json', 'moderately_active_minutes.json', 'heart_rate.json', 'exercise.json', 'sleep.json', 'lightly_active_minutes.json', 'resting_heart_rate.json'])\n",
            "('/content/data/p16/googledocs', [], ['reporting.csv'])\n",
            "('/content/data/p16/pmsys', [], ['srpe.csv', 'wellness.csv', 'injury.csv'])\n",
            "('/content/data/p15', ['fitbit', 'googledocs', 'pmsys'], [])\n",
            "('/content/data/p15/fitbit', [], ['very_active_minutes.json', 'sleep_score.csv', 'calories.json', 'steps.json', 'distance.json', 'sedentary_minutes.json', 'time_in_heart_rate_zones.json', 'moderately_active_minutes.json', 'heart_rate.json', 'exercise.json', 'sleep.json', 'lightly_active_minutes.json', 'resting_heart_rate.json'])\n",
            "('/content/data/p15/googledocs', [], [])\n",
            "('/content/data/p15/pmsys', [], ['srpe.csv', 'wellness.csv', 'injury.csv'])\n",
            "('/content/data/p05', ['fitbit', 'googledocs', 'pmsys', 'food-images'], [])\n",
            "('/content/data/p05/fitbit', [], ['very_active_minutes.json', 'sleep_score.csv', 'calories.json', 'steps.json', 'distance.json', 'sedentary_minutes.json', 'time_in_heart_rate_zones.json', 'moderately_active_minutes.json', 'heart_rate.json', 'exercise.json', 'sleep.json', 'lightly_active_minutes.json', 'resting_heart_rate.json'])\n",
            "('/content/data/p05/googledocs', [], ['reporting.csv'])\n",
            "('/content/data/p05/pmsys', [], ['srpe.csv', 'wellness.csv', 'injury.csv'])\n",
            "('/content/data/p05/food-images', [], ['IMG_2617.jpg', 'IMG_2278.jpg', 'IMG_2833.jpg', 'IMG_2215.jpg', 'IMG_2812.jpg', 'IMG_2598.jpg', 'IMG_2495.jpg', 'IMG_2603.jpg', 'IMG_2653.jpg', 'IMG_2371.jpg', 'IMG_2931.jpg', 'IMG_2417.jpg', 'IMG_2448.jpg', 'IMG_2831.jpg', 'IMG_2509.jpg', 'IMG_2654.jpg', 'IMG_2450.jpg', '61bcd5e5-8e5f-475d-ba87-39f5dc09e002.jpg', 'IMG_2667.jpg', 'IMG_2800.jpg', 'IMG_2216.jpg', 'IMG_2896.jpg', 'IMG_2384.jpg', 'IMG_2795.jpg', 'IMG_2399.jpg', 'IMG_2499.jpg', 'IMG_2430.jpg', 'IMG_2410.jpg', 'IMG_2767.jpg', 'IMG_2217.jpg', 'IMG_2479.jpg', 'IMG_2683.jpg', 'IMG_2364.jpg', 'IMG_2673.jpg', 'IMG_2587.jpg', 'IMG_2373.jpg', 'IMG_2897.jpg', 'IMG_2925.jpg', 'IMG_2664.jpg', 'IMG_2275.jpg', 'IMG_2604.jpg', 'IMG_2600.jpg', 'IMG_2490.jpg', 'IMG_2255.jpg', 'IMG_2747.jpg', 'IMG_2386.jpg', 'IMG_2232.jpg', 'IMG_2378.jpg', 'IMG_2385.jpg', 'IMG_2400.jpg', 'IMG_2421.jpg', 'IMG_2489.jpg', 'IMG_2369.jpg', 'IMG_2970.jpg', '752bda71-b461-424e-a95b-17b9ed9da468.jpg', 'IMG_2466.jpg', 'IMG_2663.jpg', 'IMG_2661.jpg', 'IMG_2674.jpg', 'IMG_2492.jpg', 'IMG_2825.jpg', 'IMG_2670.jpg', 'IMG_2222.jpg', 'IMG_2411.jpg', 'IMG_2231.jpg', 'IMG_2893.jpg', 'IMG_2324.jpg', 'IMG_2387.jpg', 'IMG_2409.jpg', 'IMG_2496.jpg', 'IMG_2659.jpg', 'IMG_2704.jpg', 'IMG_2341.jpg', 'IMG_2488.jpg', 'IMG_2589.jpg', 'IMG_2849.jpg', 'IMG_2615.jpg', 'IMG_2460.jpg', 'IMG_2672.jpg', 'IMG_2389.jpg', 'IMG_2219.jpg', 'IMG_2303.jpg', 'IMG_2662.jpg', 'IMG_2656.jpg', 'IMG_2753.jpg', 'IMG_2304.jpg', 'IMG_2289.jpg', 'IMG_2416.jpg', 'IMG_2274.jpg', 'IMG_2908.jpg', 'IMG_2464.jpg', 'IMG_2292.jpg', 'IMG_2678.jpg', 'IMG_2392.jpg', 'IMG_2890.jpg', 'IMG_2740.jpg', 'IMG_2451.jpg', 'IMG_2223.jpg', 'IMG_2221.jpg', 'IMG_2393.jpg', 'IMG_2402.jpg', 'IMG_2390.jpg', 'IMG_2288.jpg', 'IMG_2428.jpg', 'IMG_2403.jpg', 'IMG_2739.jpg', 'IMG_2493.jpg', 'IMG_2601.jpg', 'IMG_2415.jpg', 'IMG_2727.jpg', 'IMG_2476.jpg', 'IMG_2379.jpg', 'IMG_2613.jpg', 'IMG_2370.jpg', 'IMG_2685.jpg', 'IMG_2671.jpg', 'IMG_2293.jpg', 'IMG_2218.jpg', 'IMG_2791.jpg', 'IMG_2404.jpg', 'IMG_2586.jpg', 'IMG_2398.jpg', 'IMG_2491.jpg', 'IMG_2497.jpg', 'IMG_2504.jpg', 'IMG_2220.jpg', 'IMG_2407.jpg', 'IMG_2235.jpg', 'IMG_2734.jpg', 'IMG_2669.jpg', 'IMG_2261.jpg', 'IMG_2374.jpg', 'IMG_2765.jpg', 'IMG_2383.jpg', 'IMG_2382.jpg', 'IMG_2687.jpg', 'IMG_2597.jpg', 'IMG_2465.jpg', 'IMG_2735.jpg', 'IMG_2675.jpg', 'IMG_2738.jpg', 'IMG_2584.jpg', 'IMG_2924.jpg', '281dad76-7501-4f0c-b81b-92fdeb256ab3.jpg', 'IMG_2616.jpg', 'IMG_2585.jpg', 'IMG_2741.jpg', 'IMG_2381.jpg', 'IMG_2588.jpg', 'IMG_2422.jpg', 'IMG_2380.jpg', 'IMG_2832.jpg', 'IMG_2291.jpg', 'IMG_2723.jpg', 'IMG_2475.jpg', 'IMG_2487.jpg', 'IMG_2665.jpg', 'IMG_2388.jpg', 'IMG_2618.jpg', 'IMG_2394.jpg', 'IMG_2372.jpg', 'IMG_2599.jpg', 'IMG_2878.jpg', 'IMG_2501.jpg', 'IMG_2478.jpg', 'IMG_2419.jpg', 'IMG_2660.jpg', 'IMG_2508.jpg', 'IMG_2666.jpg', 'IMG_2300.jpg', 'IMG_2276.jpg', 'IMG_2477.jpg', 'IMG_2494.jpg', 'IMG_2742.jpg', 'IMG_2847.jpg', 'IMG_2502.jpg', 'IMG_2510.jpg', 'IMG_2401.jpg', 'IMG_2449.jpg', 'IMG_2966.jpg', 'IMG_2461.jpg', 'IMG_2737.jpg', 'IMG_2365.jpg', 'IMG_2418.jpg', 'IMG_2500.jpg', 'IMG_2429.jpg'])\n",
            "('/content/data/p11', ['fitbit', 'googledocs', 'pmsys'], [])\n",
            "('/content/data/p11/fitbit', [], ['very_active_minutes.json', 'sleep_score.csv', 'calories.json', 'steps.json', 'distance.json', 'sedentary_minutes.json', 'time_in_heart_rate_zones.json', 'moderately_active_minutes.json', 'heart_rate.json', 'exercise.json', 'sleep.json', 'lightly_active_minutes.json', 'resting_heart_rate.json'])\n",
            "('/content/data/p11/googledocs', [], ['reporting.csv'])\n",
            "('/content/data/p11/pmsys', [], ['srpe.csv', 'wellness.csv', 'injury.csv'])\n",
            "('/content/data/p04', ['fitbit', 'googledocs', 'pmsys'], [])\n",
            "('/content/data/p04/fitbit', [], ['very_active_minutes.json', 'sleep_score.csv', 'calories.json', 'steps.json', 'distance.json', 'sedentary_minutes.json', 'time_in_heart_rate_zones.json', 'moderately_active_minutes.json', 'heart_rate.json', 'exercise.json', 'sleep.json', 'lightly_active_minutes.json', 'resting_heart_rate.json'])\n",
            "('/content/data/p04/googledocs', [], ['reporting.csv'])\n",
            "('/content/data/p04/pmsys', [], ['srpe.csv', 'wellness.csv', 'injury.csv'])\n",
            "('/content/data/p09', ['fitbit', 'googledocs', 'pmsys'], [])\n",
            "('/content/data/p09/fitbit', [], ['very_active_minutes.json', 'sleep_score.csv', 'calories.json', 'steps.json', 'distance.json', 'sedentary_minutes.json', 'time_in_heart_rate_zones.json', 'moderately_active_minutes.json', 'heart_rate.json', 'exercise.json', 'sleep.json', 'lightly_active_minutes.json', 'resting_heart_rate.json'])\n",
            "('/content/data/p09/googledocs', [], ['reporting.csv'])\n",
            "('/content/data/p09/pmsys', [], ['srpe.csv', 'wellness.csv', 'injury.csv'])\n",
            "('/content/data/p06', ['fitbit', 'googledocs', 'pmsys'], [])\n",
            "('/content/data/p06/fitbit', [], ['very_active_minutes.json', 'sleep_score.csv', 'calories.json', 'steps.json', 'distance.json', 'sedentary_minutes.json', 'time_in_heart_rate_zones.json', 'moderately_active_minutes.json', 'heart_rate.json', 'exercise.json', 'sleep.json', 'lightly_active_minutes.json', 'resting_heart_rate.json'])\n",
            "('/content/data/p06/googledocs', [], ['reporting.csv'])\n",
            "('/content/data/p06/pmsys', [], ['srpe.csv', 'wellness.csv', 'injury.csv'])\n",
            "('/content/data/p02', ['fitbit', 'googledocs', 'pmsys'], [])\n",
            "('/content/data/p02/fitbit', [], ['very_active_minutes.json', 'sleep_score.csv', 'calories.json', 'steps.json', 'distance.json', 'sedentary_minutes.json', 'time_in_heart_rate_zones.json', 'moderately_active_minutes.json', 'heart_rate.json', 'exercise.json', 'sleep.json', 'lightly_active_minutes.json', 'resting_heart_rate.json'])\n",
            "('/content/data/p02/googledocs', [], ['reporting.csv'])\n",
            "('/content/data/p02/pmsys', [], ['srpe.csv', 'wellness.csv', 'injury.csv'])\n",
            "('/content/data/p13', ['fitbit', 'googledocs', 'pmsys'], [])\n",
            "('/content/data/p13/fitbit', [], ['very_active_minutes.json', 'sleep_score.csv', 'calories.json', 'steps.json', 'distance.json', 'sedentary_minutes.json', 'time_in_heart_rate_zones.json', 'moderately_active_minutes.json', 'heart_rate.json', 'exercise.json', 'sleep.json', 'lightly_active_minutes.json'])\n",
            "('/content/data/p13/googledocs', [], ['reporting.csv'])\n",
            "('/content/data/p13/pmsys', [], ['srpe.csv', 'wellness.csv', 'injury.csv'])\n",
            "('/content/data/p14', ['fitbit', 'googledocs', 'pmsys'], [])\n",
            "('/content/data/p14/fitbit', [], ['very_active_minutes.json', 'sleep_score.csv', 'calories.json', 'steps.json', 'distance.json', 'sedentary_minutes.json', 'time_in_heart_rate_zones.json', 'moderately_active_minutes.json', 'heart_rate.json', 'exercise.json', 'sleep.json', 'lightly_active_minutes.json', 'resting_heart_rate.json'])\n",
            "('/content/data/p14/googledocs', [], ['reporting.csv'])\n",
            "('/content/data/p14/pmsys', [], ['srpe.csv', 'wellness.csv', 'injury.csv'])\n",
            "('/content/data/p07', ['fitbit', 'googledocs', 'pmsys'], [])\n",
            "('/content/data/p07/fitbit', [], ['very_active_minutes.json', 'sleep_score.csv', 'calories.json', 'steps.json', 'distance.json', 'sedentary_minutes.json', 'time_in_heart_rate_zones.json', 'moderately_active_minutes.json', 'heart_rate.json', 'exercise.json', 'sleep.json', 'lightly_active_minutes.json', 'resting_heart_rate.json'])\n",
            "('/content/data/p07/googledocs', [], ['reporting.csv'])\n",
            "('/content/data/p07/pmsys', [], ['srpe.csv', 'wellness.csv', 'injury.csv'])\n",
            "('/content/data/p10', ['fitbit', 'googledocs', 'pmsys'], [])\n",
            "('/content/data/p10/fitbit', [], ['very_active_minutes.json', 'sleep_score.csv', 'calories.json', 'steps.json', 'distance.json', 'sedentary_minutes.json', 'time_in_heart_rate_zones.json', 'moderately_active_minutes.json', 'heart_rate.json', 'exercise.json', 'sleep.json', 'lightly_active_minutes.json', 'resting_heart_rate.json'])\n",
            "('/content/data/p10/googledocs', [], ['reporting.csv'])\n",
            "('/content/data/p10/pmsys', [], ['srpe.csv', 'wellness.csv', 'injury.csv'])\n",
            "('/content/data/p08', ['fitbit', 'googledocs', 'pmsys'], [])\n",
            "('/content/data/p08/fitbit', [], ['very_active_minutes.json', 'sleep_score.csv', 'calories.json', 'steps.json', 'distance.json', 'sedentary_minutes.json', 'time_in_heart_rate_zones.json', 'moderately_active_minutes.json', 'heart_rate.json', 'exercise.json', 'sleep.json', 'lightly_active_minutes.json', 'resting_heart_rate.json'])\n",
            "('/content/data/p08/googledocs', [], ['reporting.csv'])\n",
            "('/content/data/p08/pmsys', [], ['srpe.csv', 'wellness.csv'])\n",
            "('/content/sample_data', [], ['anscombe.json', 'README.md', 'mnist_test.csv', 'california_housing_train.csv', 'mnist_train_small.csv', 'california_housing_test.csv'])\n"
          ],
          "name": "stdout"
        }
      ]
    }
  ]
}