{
  "nbformat": 4,
  "nbformat_minor": 0,
  "metadata": {
    "colab": {
      "name": "DEX_pmsys_task.ipynb",
      "provenance": [],
      "collapsed_sections": [],
      "authorship_tag": "ABX9TyPYuUbdpkV3vHTaEls92WSm",
      "include_colab_link": true
    },
    "kernelspec": {
      "name": "python3",
      "display_name": "Python 3"
    }
  },
  "cells": [
    {
      "cell_type": "markdown",
      "metadata": {
        "id": "view-in-github",
        "colab_type": "text"
      },
      "source": [
        "<a href=\"https://colab.research.google.com/github/Pirognoe/Show_Off/blob/master/DEX_pmsys_task.ipynb\" target=\"_parent\"><img src=\"https://colab.research.google.com/assets/colab-badge.svg\" alt=\"Open In Colab\"/></a>"
      ]
    },
    {
      "cell_type": "markdown",
      "metadata": {
        "id": "0RWMXMtF2hwu",
        "colab_type": "text"
      },
      "source": [
        "#Import section"
      ]
    },
    {
      "cell_type": "code",
      "metadata": {
        "id": "qow4mHlMB8yr",
        "colab_type": "code",
        "colab": {}
      },
      "source": [
        "from urllib.request import urlretrieve\n",
        "import os\n",
        "import pathlib\n",
        "from zipfile import ZipFile"
      ],
      "execution_count": 0,
      "outputs": []
    },
    {
      "cell_type": "markdown",
      "metadata": {
        "id": "Gvyjg5kCJ0j3",
        "colab_type": "text"
      },
      "source": [
        ""
      ]
    },
    {
      "cell_type": "code",
      "metadata": {
        "id": "lUh9LO6uztD5",
        "colab_type": "code",
        "colab": {
          "base_uri": "https://localhost:8080/",
          "height": 53
        },
        "outputId": "ebaeacd9-87ae-4fb9-d7ff-59663c8b0bd4"
      },
      "source": [
        "def download(url, file):\n",
        "    if not os.path.isfile(file):\n",
        "        print(\"Download file... \" + file + \" ...\")\n",
        "        urlretrieve(url,file)\n",
        "        print(\"File downloaded\")\n",
        "\n",
        "download('https://datasets.simula.no/pmdata/pmdata.zip','pmdata.zip')\n",
        "print(\"All the files are downloaded\")#If the downloaded file is a zip file than you can use below function to unzip it.\n",
        "def uncompress_features_labels(dir):\n",
        "    if(os.path.isdir('data')):\n",
        "        print('Data extracted')\n",
        "    else:\n",
        "        with ZipFile(dir) as zipf:\n",
        "            zipf.extractall('data')\n",
        "uncompress_features_labels('pmdata.zip')"
      ],
      "execution_count": 2,
      "outputs": [
        {
          "output_type": "stream",
          "text": [
            "All the files are downloaded\n",
            "Data extracted\n"
          ],
          "name": "stdout"
        }
      ]
    },
    {
      "cell_type": "markdown",
      "metadata": {
        "id": "em42xqtWCAwv",
        "colab_type": "text"
      },
      "source": [
        "# Initial data upload"
      ]
    },
    {
      "cell_type": "code",
      "metadata": {
        "id": "QgUtyX0j3TqU",
        "colab_type": "code",
        "colab": {
          "base_uri": "https://localhost:8080/",
          "height": 53
        },
        "outputId": "7a5e3907-edad-413a-cd5d-637c6106fab2"
      },
      "source": [
        "print(os.getcwd())\n",
        "os.listdir()\n",
        "os.chdir(os.path.relpath('data'))\n",
        "print(os.getcwd())"
      ],
      "execution_count": 3,
      "outputs": [
        {
          "output_type": "stream",
          "text": [
            "/content\n",
            "/content/data\n"
          ],
          "name": "stdout"
        }
      ]
    },
    {
      "cell_type": "code",
      "metadata": {
        "id": "KLTIbF5BBqIH",
        "colab_type": "code",
        "colab": {
          "base_uri": "https://localhost:8080/",
          "height": 73
        },
        "outputId": "a0f7f302-b164-4a22-bcbb-3e654efd5b2d"
      },
      "source": [
        "personal_directories = os.listdir()\n",
        "for directory in personal_directories:\n",
        "  if os.path.isdir(directory):\n",
        "    print('/n')\n",
        "    print(os.listdir(os.chdir(os.path.abspath(f'{directory}/fitbit'))))"
      ],
      "execution_count": 4,
      "outputs": [
        {
          "output_type": "stream",
          "text": [
            "/n\n",
            "['very_active_minutes.json', 'sleep_score.csv', 'calories.json', 'steps.json', 'distance.json', 'sedentary_minutes.json', 'time_in_heart_rate_zones.json', 'moderately_active_minutes.json', 'heart_rate.json', 'pmdata.zip', 'exercise.json', 'data', 'sleep.json', 'lightly_active_minutes.json', 'resting_heart_rate.json']\n"
          ],
          "name": "stdout"
        }
      ]
    }
  ]
}